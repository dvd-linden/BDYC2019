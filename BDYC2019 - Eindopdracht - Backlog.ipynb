{
 "cells": [
  {
   "cell_type": "markdown",
   "metadata": {},
   "source": [
    "<font face=\"cambria\">\n",
    "<p style=\"text-align:center;\"><font size=\"6\"><b>Big Data Engineer Eindopdracht</b></font></p>\n",
    "<p style=\"text-align:center;\"><font size=\"6\"><b>Peter Kremers en Dennis van der Linden</b></font></p>\n",
    "<hr noshade size=\"2px\" width=\"100%\">\n",
    "</br>\n",
    "<p style=\"text-align:center;\"><font size=\"5\"><b><u>Backlog</u></b></font></p>\n",
    "</br>\n",
    "</font>"
   ]
  },
  {
   "cell_type": "markdown",
   "metadata": {},
   "source": [
    "https://ketjapp.nl/artikelen/wat-een-%E2%80%98scrum-backlog%E2%80%99\n",
    "\n",
    "### Mogelijke onderwerpen (3):\n",
    "\n",
    "- Netflix (descriptive/diagnostic):\n",
    "    - Onderzoek naar de invloed van Netlfix Original Series op het klantbehoud van Netflix\n",
    "    - Dataset present?: Nee\n",
    "- Brandstofprijzen vs. filevorming Nederland (descriptive/diagnostic):\n",
    "    - (Internationale) olieprijs --> (invloed op Nederlandse brandstofprijs) --> Invloed op Nederlandse filevorming\n",
    "    - Dataset present?: Nee\n",
    "- Verschuiving van de meteorologische winter en/of zomer (predictive):\n",
    "    - Onderzoek naar verschuiving van de start en het einde van de seizoenen winter en zomer en aan de hand daarvan voorspellen of deze start/einde binnen enkele decennia verder verschuift\n",
    "    - Dataset present?: KNMI?? (http://projects.knmi.nl/klimatologie/daggegevens/selectie.cgi)\n",
    "    \n",
    "</br>        \n",
    "<font face=\"cambria\">       \n",
    "<hr noshade size=\"2px\" width=\"100%\">\n",
    "<p style=\"text-align:right;\"><font size=\"3\">© Peter Kremers en Dennis van der Linden</font></p>"
   ]
  }
 ],
 "metadata": {
  "kernelspec": {
   "display_name": "Python 3",
   "language": "python",
   "name": "python3"
  },
  "language_info": {
   "codemirror_mode": {
    "name": "ipython",
    "version": 3
   },
   "file_extension": ".py",
   "mimetype": "text/x-python",
   "name": "python",
   "nbconvert_exporter": "python",
   "pygments_lexer": "ipython3",
   "version": "3.7.3"
  }
 },
 "nbformat": 4,
 "nbformat_minor": 4
}
