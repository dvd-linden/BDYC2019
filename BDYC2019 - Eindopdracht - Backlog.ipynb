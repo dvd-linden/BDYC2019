{
 "cells": [
  {
   "cell_type": "markdown",
   "metadata": {},
   "source": [
    "<font face=\"cambria\">\n",
    "<p style=\"text-align:center;\"><font size=\"6\"><b>Big Data Engineer Eindopdracht</b></font></p>\n",
    "<p style=\"text-align:center;\"><font size=\"6\"><b>Peter Kremers en Dennis van der Linden</b></font></p>\n",
    "<hr noshade size=\"2px\" width=\"100%\">\n",
    "</br>\n",
    "<p style=\"text-align:center;\"><font size=\"5\"><b><u>Backlog</u></b></font></p>\n",
    "</br>\n",
    "</font>"
   ]
  },
  {
   "cell_type": "markdown",
   "metadata": {},
   "source": [
    "# __Onderwerpbepaling__\n",
    "\n",
    "### Mogelijke onderwerpen (3):\n",
    "\n",
    "- Netflix (descriptive/diagnostic):\n",
    "    - Onderzoek naar de invloed van Netlfix Original Series op het klantbehoud van Netflix\n",
    "    - Dataset present?: Nee\n",
    "- Brandstofprijzen vs. filevorming Nederland (descriptive/diagnostic):\n",
    "    - (Internationale) olieprijs --> (invloed op Nederlandse brandstofprijs) --> Invloed op Nederlandse filevorming\n",
    "    - Dataset present?: Nee\n",
    "- Verschuiving van de meteorologische winter en/of zomer (predictive):\n",
    "    - Onderzoek naar verschuiving van de start en het einde van de seizoenen winter en zomer en aan de hand daarvan voorspellen of deze start/einde binnen enkele decennia verder verschuift\n",
    "    - Dataset present?: KNMI?? (http://projects.knmi.nl/klimatologie/daggegevens/selectie.cgi)\n",
    "    \n",
    "### __Gekozen onderwerp:__ Brandstofprijzen vs. filevorming Nederland (descriptive/diagnostic)\n",
    "\n",
    "- Variabelen waar we rekening mee moeten houden:\n",
    "     - Weer\n",
    "     - Economie (kijken naar het bruto binnenlands product; dit is een indicator voor economische groei)\n",
    "     - Ongelukken (bv. kijken of er meer ongelukken gebeuren als de benzineprijs stijgt)\n",
    "     - Evenementen (eventueel erin betrekken, mochten we nog tijd hebben)    \n",
    "- Benodigde datasets\n",
    "     - Dataset files\n",
    "     - Dataset ongelukken\n",
    "     - Dataset weer\n",
    "     - Dataset brandstofprijzen\n",
    "     - Dataset bruto binnenlands product (eventueel gecorrigeerd voor inflatie)"
   ]
  },
  {
   "cell_type": "markdown",
   "metadata": {},
   "source": [
    "# __Dagelijks stappenplan__\n",
    "\n",
    "## _08-10-2019:_\n",
    "\n",
    "### Stap 1\n",
    "\n",
    "- Een dataset met daarin informatie over files (zoals aantal, lengte, etc.)\n",
    "    - Met gebruik van deze dataset kunnen we een heatmap plotten waardoor we kunnen inzoomen op regio's waar de meeste files voorkomen (of juist op regio's waar weinig files voorkomen, aangezien dit ook interessant kan zijn).\n",
    "        - Op deze manier kunnen we bijvoorbeeld ook de variabele weer erin betrekken --> dit is namelijk heel regiogebonden\n",
    "\n",
    "### Stap 2\n",
    "\n",
    "- De dataset in python inladen en zorgen dat we hierover een heatmap kunnen plotten\n",
    "\n",
    "## _09-10-2019:_"
   ]
  },
  {
   "cell_type": "code",
   "execution_count": null,
   "metadata": {},
   "outputs": [],
   "source": []
  },
  {
   "cell_type": "markdown",
   "metadata": {},
   "source": [
    "# __Punten om rekening mee te houden__\n",
    "\n",
    "- Begin met een kleine dataset en probeer hierover al conclusies te trekken (dit kan in week 41). Deze set kan dan eventueel in week 42 uitgebreid worden (wide en long, maar vooral meerdere variabelen dus wide), waardoor je de mogelijkheid hebt om terug te vallen op de resultaten van week 41 en de ruimte hebt om het onderzoek complexer en beter te maken zonder dat je het gevaar hebt dat je helemaal vastloopt."
   ]
  },
  {
   "cell_type": "markdown",
   "metadata": {},
   "source": [
    "# __Links:__\n",
    "\n",
    "- Backlog:\n",
    "    - https://ketjapp.nl/artikelen/wat-een-%E2%80%98scrum-backlog%E2%80%99\n",
    " \n",
    " \n",
    "- Datasets:\n",
    "    - https://opendata.cbs.nl/statline/#/CBS/nl/\n",
    " \n",
    " \n",
    "- Cheatsheets: \n",
    "    - https://medium.com/ibm-data-science-experience/markdown-for-jupyter-notebooks-cheatsheet-386c05aeebed\n"
   ]
  },
  {
   "cell_type": "markdown",
   "metadata": {},
   "source": [
    "<font face=\"cambria\">       \n",
    "<hr noshade size=\"2px\" width=\"100%\">\n",
    "<p style=\"text-align:right;\"><font size=\"3\">© Peter Kremers en Dennis van der Linden</font></p>"
   ]
  },
  {
   "cell_type": "code",
   "execution_count": null,
   "metadata": {},
   "outputs": [],
   "source": []
  }
 ],
 "metadata": {
  "kernelspec": {
   "display_name": "Python 3",
   "language": "python",
   "name": "python3"
  },
  "language_info": {
   "codemirror_mode": {
    "name": "ipython",
    "version": 3
   },
   "file_extension": ".py",
   "mimetype": "text/x-python",
   "name": "python",
   "nbconvert_exporter": "python",
   "pygments_lexer": "ipython3",
   "version": "3.7.3"
  }
 },
 "nbformat": 4,
 "nbformat_minor": 4
}
