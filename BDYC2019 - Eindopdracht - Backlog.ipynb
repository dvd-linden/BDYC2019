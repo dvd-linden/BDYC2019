{
 "cells": [
  {
   "cell_type": "markdown",
   "metadata": {},
   "source": [
    "<font face=\"cambria\">\n",
    "<p style=\"text-align:center;\"><font size=\"6\"><b>Big Data Engineer Eindopdracht</b></font></p>\n",
    "<p style=\"text-align:center;\"><font size=\"6\"><b>Peter Kremers en Dennis van der Linden</b></font></p>\n",
    "</font>"
   ]
  },
  {
   "cell_type": "markdown",
   "metadata": {},
   "source": [
    "<font face=\"cambria\">\n",
    "<hr noshade size=\"2px\" width=\"100%\">\n",
    "<p style=\"text-align:center;\"><font size=\"6\"><b>Backlog</b></font></p>\n",
    "<hr noshade size=\"2px\" width=\"100%\">\n",
    "</font>"
   ]
  },
  {
   "cell_type": "markdown",
   "metadata": {},
   "source": [
    "# __• Onderwerpbepaling__\n",
    "\n",
    "### Mogelijke onderwerpen (3):\n",
    "\n",
    "- Netflix (descriptive/diagnostic):\n",
    "    - Onderzoek naar de invloed van Netlfix Original Series op het klantbehoud van Netflix\n",
    "    - Dataset present?: Nee\n",
    "- Brandstofprijzen vs. filevorming Nederland (descriptive/diagnostic):\n",
    "    - (Internationale) olieprijs --> (invloed op Nederlandse brandstofprijs) --> Invloed op Nederlandse filevorming\n",
    "    - Dataset present?: Nee\n",
    "- Verschuiving van de meteorologische winter en/of zomer (predictive):\n",
    "    - Onderzoek naar verschuiving van de start en het einde van de seizoenen winter en zomer en aan de hand daarvan voorspellen of deze start/einde binnen enkele decennia verder verschuift\n",
    "    - Dataset present?: KNMI?? (http://projects.knmi.nl/klimatologie/daggegevens/selectie.cgi)\n",
    "    \n",
    "### __Gekozen onderwerp:__ Brandstofprijzen vs. filevorming Nederland (descriptive/diagnostic)\n",
    "\n",
    "- Variabelen waar we rekening mee moeten houden:\n",
    "     - Weer\n",
    "     - Economie (kijken naar het bruto binnenlands product; dit is een indicator voor economische groei)\n",
    "     - Ongelukken (bv. kijken of er meer ongelukken gebeuren als de benzineprijs stijgt)\n",
    "     - Evenementen (eventueel erin betrekken, mochten we nog tijd hebben)    \n",
    "- Benodigde datasets\n",
    "     - Dataset files\n",
    "     - Dataset ongelukken\n",
    "     - Dataset weer\n",
    "     - Dataset brandstofprijzen\n",
    "     - Dataset bruto binnenlands product (eventueel gecorrigeerd voor inflatie)"
   ]
  },
  {
   "cell_type": "markdown",
   "metadata": {},
   "source": [
    "___"
   ]
  },
  {
   "cell_type": "markdown",
   "metadata": {},
   "source": [
    "# __• Dag: 08-10-2019__\n",
    "\n",
    "## <u>_Dagelijks stappenplan:_</u>\n",
    "\n",
    "### Stap 1\n",
    "\n",
    "- Zoeken naar aanvullende datasets die van betekenis kunnen zijn (Dennis)\n",
    "- Een dataset met daarin informatie over files (zoals aantal, lengte, etc.) (Peter)\n",
    "    - Met gebruik van deze dataset kunnen we een heatmap plotten waardoor we kunnen inzoomen op regio's waar de meeste files voorkomen (of juist op regio's waar weinig files voorkomen, aangezien dit ook interessant kan zijn).\n",
    "        - Op deze manier kunnen we bijvoorbeeld ook de variabele weer erin betrekken --> dit is namelijk heel regiogebonden\n",
    "\n",
    "### Stap 2\n",
    "\n",
    "- De dataset in python inladen en zorgen dat we hierover een heatmap kunnen plotten\n",
    "\n",
    "## <u>_Dagelijks resultaat:_</u>\n",
    "\n",
    "### Stap 1\n",
    "\n",
    "- Een aantal datasets gevonden via NDW.nu (XML-files), waarvan we ons gefocust hebben op één specifieke dataset (trafficspeed.xml) en vervolgens zijn we voornamelijk met die data aan de slag gegaan. Ook via opendata.cbs.nl/statline/#/CBS/nl/ een aantal datasets gevonden (CSV-files), maar buiten een check of het werkt om ze in te laden in een Jupyter Notebook is daar tot nu toe nog niks mee gedaan.\n",
    "\n",
    "### Stap 2\n",
    "\n",
    "- We zijn de rest van de dag bezig geweest met het proberen om trafficspeed.xml in te laden in een Jupyter Notebook en deze zo te bewerken dat we de juiste variabelen uit het XML-bestand konden halen om zo een dataframe te creëren. Dit was een behoorlijk frustrerende bezigheid en het is ons ook niet gelukt om dit voor elkaar te krijgen. We zijn er ook in de avond in het hotel nog mee bezig geweest en hebben vervolgens besloten om deze activiteit door te zetten op 09-10-2019."
   ]
  },
  {
   "cell_type": "markdown",
   "metadata": {},
   "source": [
    "___"
   ]
  },
  {
   "cell_type": "markdown",
   "metadata": {},
   "source": [
    "# __• Dag: 09-10-2019__\n",
    "\n",
    "## <u>_Dagelijks stappenplan:_</u>\n",
    "\n",
    "### Stap 1\n",
    "\n",
    "- Oefenen met het ontleden van XML-files (Dennis en Peter)\n",
    "- Deze oefeningen toepassen op ``trafficspeed.xml`` (Dennis en Peter)\n",
    "- Relevante data uit deze XML-file selecteren (Dennis en Peter)\n",
    "    - Index for-loop creëren binnen een functie (Peter)\n",
    "    - Datum en tijd splitsen in aparte kolommen (Dennis)\n",
    "\n",
    "### Stap 2\n",
    "\n",
    "- De ontlede data uit de XML-file in een pandas DataFrame stoppen\n",
    "    - In dit DataFrame is het de bedoeling dat enkel de voor het onderzoek benodigde gegevens worden opgenomen en dat de datum/tijd gegevens gesplitst worden op datum en tijd. (zie stap 1)\n",
    "\n",
    "## <u>_Dagelijks resultaat:_</u>\n",
    "\n",
    "### Stap 1\n",
    "\n",
    "- Oefenen met het ontleden van de XML-files ging redelijk voorspoedig. O.a. met de hulp van Michel is het ons gelukt om in eerste instantie bij een oefen XML-bestand een dataframe te creëren. Vervolgens hebben we met wat extra stappen dit ook kunnen toepassen op trafficspeed.xml.\n",
    "    - Om precies de relevante data uit de XML-file te filteren die we nodig hebben, met de juiste volgorde (het is lastig om alles eruit te krijgen), is nog niet helemaal gelukt.\n",
    "    - Datum en tijd splitsen in aparte kolommen is gelukt.\n",
    "    \n",
    "### Stap 2\n",
    "\n",
    "- We hebben al informatie uit de XML-file die wij nodig hebben in een dataframe kunnen stoppen, maar het is nog niet volledig. Dus de door ons benodigde gegevens voor het onderzoek staan nog niet helemaal zoals we willen in een dataframe."
   ]
  },
  {
   "cell_type": "markdown",
   "metadata": {},
   "source": [
    "___"
   ]
  },
  {
   "cell_type": "markdown",
   "metadata": {},
   "source": [
    "# __• Dag: 10-10-2019__\n",
    "\n",
    "## <u>_Dagelijks stappenplan:_</u>\n",
    "\n",
    "### Stap 1\n",
    "\n",
    "- Verder gaan met het XML-bestand zo te bewerken dat we een volledig dataframe kunnen creëren. Dit dataframe moet volledig zijn en precies hetgeen bevatten waarvan wij willen dat het erin staat.\n",
    "    - Mocht het lukken om het dataframe volledig af te krijgen eventueel visualisaties maken die ons al enige informatie over de dataset kan geven.\n",
    "- Kijken wat er met de wegvak kolom moet gebeuren. De code die hierin staat moet ontcijferd worden zodat we weten over welke locatie het gaat. Hiervoor eventueel zoeken naar andere datasets en deze combineren met de trafficspeed.xml dataset.\n",
    "- Proberen een script in elkaar te zetten wat gedraaid kan worden en van een hele dag de trafficspeed.xml file van ndw.nu af kan halen. Dan zouden we dus 1440 datasets hebben met daarin de verkeersinformatie van een volledige dag.\n",
    "\n",
    "## <u>_Dagelijks resultaat:_</u>\n",
    "\n",
    "### Stap 1"
   ]
  },
  {
   "cell_type": "markdown",
   "metadata": {},
   "source": [
    "___"
   ]
  },
  {
   "cell_type": "markdown",
   "metadata": {},
   "source": [
    "# __• Dag: 14-10-2019__\n",
    "\n",
    "## <u>_Dagelijks stappenplan:_</u>\n",
    "\n",
    "### Stap 1\n",
    "\n",
    "## <u>_Dagelijks resultaat:_</u>\n",
    "\n",
    "### Stap 1"
   ]
  },
  {
   "cell_type": "markdown",
   "metadata": {},
   "source": [
    "___"
   ]
  },
  {
   "cell_type": "markdown",
   "metadata": {},
   "source": [
    "# __• Dag: 15-10-2019__\n",
    "\n",
    "## <u>_Dagelijks stappenplan:_</u>\n",
    "\n",
    "### Stap 1\n",
    "\n",
    "## <u>_Dagelijks resultaat:_</u>\n",
    "\n",
    "### Stap 1"
   ]
  },
  {
   "cell_type": "markdown",
   "metadata": {},
   "source": [
    "___"
   ]
  },
  {
   "cell_type": "markdown",
   "metadata": {},
   "source": [
    "# __• Dag: 16-10-2019__\n",
    "\n",
    "## <u>_Dagelijks stappenplan:_</u>\n",
    "\n",
    "### Stap 1\n",
    "\n",
    "## <u>_Dagelijks resultaat:_</u>\n",
    "\n",
    "### Stap 1"
   ]
  },
  {
   "cell_type": "markdown",
   "metadata": {},
   "source": [
    "___"
   ]
  },
  {
   "cell_type": "markdown",
   "metadata": {},
   "source": [
    "# __• Dag: 17-10-2019__\n",
    "\n",
    "## <u>_Dagelijks stappenplan:_</u>\n",
    "\n",
    "### Stap 1\n",
    "\n",
    "## <u>_Dagelijks resultaat:_</u>\n",
    "\n",
    "### Stap 1"
   ]
  },
  {
   "cell_type": "markdown",
   "metadata": {},
   "source": [
    "___"
   ]
  },
  {
   "cell_type": "markdown",
   "metadata": {},
   "source": [
    "# __• Punten om rekening mee te houden__\n",
    "\n",
    "- Begin met een kleine dataset en probeer hierover al conclusies te trekken (dit kan in week 41). Deze set kan dan eventueel in week 42 uitgebreid worden (wide en long, maar vooral meerdere variabelen dus wide), waardoor je de mogelijkheid hebt om terug te vallen op de resultaten van week 41 en de ruimte hebt om het onderzoek complexer en beter te maken zonder dat je het gevaar hebt dat je helemaal vastloopt."
   ]
  },
  {
   "cell_type": "markdown",
   "metadata": {},
   "source": [
    "___"
   ]
  },
  {
   "cell_type": "markdown",
   "metadata": {},
   "source": [
    "# __• Links:__\n",
    "\n",
    "- Backlog:\n",
    "    - https://ketjapp.nl/artikelen/wat-een-%E2%80%98scrum-backlog%E2%80%99\n",
    " \n",
    " \n",
    "- Datasets:\n",
    "    - https://opendata.cbs.nl/statline/#/CBS/nl/\n",
    "    - http://opendata.ndw.nu/\n",
    " \n",
    " \n",
    "- Cheatsheets: \n",
    "    - https://medium.com/ibm-data-science-experience/markdown-for-jupyter-notebooks-cheatsheet-386c05aeebed\n"
   ]
  },
  {
   "cell_type": "markdown",
   "metadata": {},
   "source": [
    "<font face=\"cambria\">       \n",
    "<hr noshade size=\"2px\" width=\"100%\">\n",
    "<p style=\"text-align:right;\"><font size=\"3\">© Peter Kremers en Dennis van der Linden</font></p>"
   ]
  },
  {
   "cell_type": "code",
   "execution_count": null,
   "metadata": {},
   "outputs": [],
   "source": []
  }
 ],
 "metadata": {
  "kernelspec": {
   "display_name": "Python 3",
   "language": "python",
   "name": "python3"
  },
  "language_info": {
   "codemirror_mode": {
    "name": "ipython",
    "version": 3
   },
   "file_extension": ".py",
   "mimetype": "text/x-python",
   "name": "python",
   "nbconvert_exporter": "python",
   "pygments_lexer": "ipython3",
   "version": "3.7.3"
  }
 },
 "nbformat": 4,
 "nbformat_minor": 4
}
