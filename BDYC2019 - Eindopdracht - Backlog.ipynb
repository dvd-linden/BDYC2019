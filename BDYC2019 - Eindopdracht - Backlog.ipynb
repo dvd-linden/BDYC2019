{
 "cells": [
  {
   "cell_type": "markdown",
   "metadata": {},
   "source": [
    "<font size='5'><b>Big Data Engineer Eindopdracht - Peter Kremers en Dennis van der Linden<B></font>\n",
    "</br>\n",
    "</br>\n",
    "<font size='5'>Backlog</font>\n",
    "\n",
    "https://ketjapp.nl/artikelen/wat-een-%E2%80%98scrum-backlog%E2%80%99"
   ]
  },
  {
   "cell_type": "code",
   "execution_count": null,
   "metadata": {},
   "outputs": [],
   "source": []
  }
 ],
 "metadata": {
  "kernelspec": {
   "display_name": "Python 3",
   "language": "python",
   "name": "python3"
  },
  "language_info": {
   "codemirror_mode": {
    "name": "ipython",
    "version": 3
   },
   "file_extension": ".py",
   "mimetype": "text/x-python",
   "name": "python",
   "nbconvert_exporter": "python",
   "pygments_lexer": "ipython3",
   "version": "3.7.3"
  }
 },
 "nbformat": 4,
 "nbformat_minor": 4
}
