{
 "cells": [
  {
   "cell_type": "markdown",
   "metadata": {},
   "source": [
    "<font size='5'><b>Big Data Engineer Eindopdracht - Peter Kremers en Dennis van der Linden<B></font>\n",
    "</br>\n",
    "</br>\n",
    "<font size='5'><u>Backlog</u></font>\n",
    "\n",
    "https://ketjapp.nl/artikelen/wat-een-%E2%80%98scrum-backlog%E2%80%99"
   ]
  },
  {
   "cell_type": "markdown",
   "metadata": {},
   "source": [
    "### Mogelijke onderwerpen (3):\n",
    "\n",
    "- Netflix (descriptive/diagnostic):\n",
    "    - Onderzoek naar de invloed van Netlfix Original Series op het klantbehoud van Netflix\n",
    "    - Dataset present?: Nee\n",
    "- Brandstofprijzen vs. filevorming Nederland (descriptive/diagnostic):\n",
    "    - (Internationale) olieprijs --> (invloed op Nederlandse brandstofprijs) --> Invloed op Nederlandse filevorming\n",
    "    - Dataset present?: Nee\n",
    "- Verschuiving van de meteorologische winter en/of zomer (predictive):\n",
    "    - Onderzoek naar verschuiving van de start en het einde van de seizoenen winter en zomer en aan de hand daarvan voorspellen of deze start/einde binnen enkele decennia verder verschuift\n",
    "    - Dataset present?: KNMI?? (http://projects.knmi.nl/klimatologie/daggegevens/selectie.cgi)"
   ]
  },
  {
   "cell_type": "code",
   "execution_count": 2,
   "metadata": {},
   "outputs": [],
   "source": [
    "# nieuw"
   ]
  },
  {
   "cell_type": "code",
   "execution_count": null,
   "metadata": {},
   "outputs": [],
   "source": []
  }
 ],
 "metadata": {
  "kernelspec": {
   "display_name": "Python 3",
   "language": "python",
   "name": "python3"
  },
  "language_info": {
   "codemirror_mode": {
    "name": "ipython",
    "version": 3
   },
   "file_extension": ".py",
   "mimetype": "text/x-python",
   "name": "python",
   "nbconvert_exporter": "python",
   "pygments_lexer": "ipython3",
   "version": "3.7.3"
  }
 },
 "nbformat": 4,
 "nbformat_minor": 4
}
