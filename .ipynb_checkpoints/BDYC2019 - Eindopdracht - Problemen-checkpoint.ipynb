{
 "cells": [
  {
   "cell_type": "markdown",
   "metadata": {},
   "source": [
    "<font face=\"cambria\">\n",
    "<p style=\"text-align:center;\"><font size=\"6\"><b>Big Data Engineer Eindopdracht</b></font></p>\n",
    "<p style=\"text-align:center;\"><font size=\"6\"><b>Peter Kremers en Dennis van der Linden</b></font></p>\n",
    "<hr noshade size=\"2px\" width=\"100%\">\n",
    "</br>\n",
    "<p style=\"text-align:center;\"><font size=\"5\"><b><u>Problems</u></b></font></p>\n",
    "</br>\n",
    "</font>"
   ]
  },
  {
   "cell_type": "markdown",
   "metadata": {},
   "source": [
    "- Git:\n",
    "    - Repository delen met elkaar lukt niet\n",
    "        - Status: *Opgelost*      "
   ]
  },
  {
   "cell_type": "markdown",
   "metadata": {},
   "source": [
    "- Git oplossingen:\n",
    "      - Git push commands voor Mac:\n",
    "        - 1: git add \"filename.ipynb\"\n",
    "        - 2: git commit --> message invullen\n",
    "        - 3: druk op ESC and voer commando :wq uit\n",
    "        - 4: git push\n",
    "    - Git pull error \"The following untracked working tree files would be overwritten by merge\"\n",
    "        - 1: git add * \n",
    "        - 2: git stash\n",
    "        - 3: git pull"
   ]
  },
  {
   "cell_type": "markdown",
   "metadata": {},
   "source": [
    "<font face=\"cambria\">       \n",
    "<hr noshade size=\"2px\" width=\"100%\">\n",
    "<p style=\"text-align:right;\"><font size=\"3\">© Peter Kremers en Dennis van der Linden</font></p"
   ]
  },
  {
   "cell_type": "code",
   "execution_count": null,
   "metadata": {},
   "outputs": [],
   "source": []
  }
 ],
 "metadata": {
  "kernelspec": {
   "display_name": "Python 3",
   "language": "python",
   "name": "python3"
  },
  "language_info": {
   "codemirror_mode": {
    "name": "ipython",
    "version": 3
   },
   "file_extension": ".py",
   "mimetype": "text/x-python",
   "name": "python",
   "nbconvert_exporter": "python",
   "pygments_lexer": "ipython3",
   "version": "3.7.3"
  }
 },
 "nbformat": 4,
 "nbformat_minor": 4
}
