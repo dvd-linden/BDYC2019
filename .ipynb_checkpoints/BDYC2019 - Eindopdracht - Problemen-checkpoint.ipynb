{
 "cells": [
  {
   "cell_type": "markdown",
   "metadata": {},
   "source": [
    "<font face=\"cambria\">\n",
    "<p style=\"text-align:center;\"><font size=\"6\"><b>Big Data Engineer Eindopdracht</b></font></p>\n",
    "<p style=\"text-align:center;\"><font size=\"6\"><b>Peter Kremers en Dennis van der Linden</b></font></p>\n",
    "</font>"
   ]
  },
  {
   "cell_type": "markdown",
   "metadata": {},
   "source": [
    "<font face=\"cambria\">\n",
    "<hr noshade size=\"2px\" width=\"100%\">\n",
    "<p style=\"text-align:center;\"><font size=\"6\"><b>Problems</b></font></p>\n",
    "<hr noshade size=\"2px\" width=\"100%\">\n",
    "</font>"
   ]
  },
  {
   "cell_type": "markdown",
   "metadata": {},
   "source": [
    "## __• Git problems:__\n",
    "- <u>Repository delen met elkaar lukt niet</u>\n",
    "    - Status: *Opgelost*     "
   ]
  },
  {
   "cell_type": "markdown",
   "metadata": {},
   "source": [
    "- <u>Git oplossingen:</u>\n",
    "      - Git push commands voor Mac:\n",
    "        - 1: git add \"filename.ipynb\" OF git add .\n",
    "        - 2: git commit --> druk op i om in de insertmodus te komen\n",
    "        - 3: message invullen\n",
    "        - 3: druk op ESC (totdat insert onderaan verdwijnt) and voer commando :wq uit\n",
    "        - 4: git push\n",
    "    - Git pull error \"The following untracked working tree files would be overwritten by merge\"\n",
    "        - 1: git add * \n",
    "        - 2: git stash\n",
    "        - 3: git pull"
   ]
  },
  {
   "cell_type": "markdown",
   "metadata": {},
   "source": [
    "___"
   ]
  },
  {
   "cell_type": "markdown",
   "metadata": {},
   "source": [
    "## __• Dataset problems:__\n",
    "\n",
    "- <u>XML-files ontleden (algemeen):</u>\n",
    "    - Als grondslag voor dit probleem liepen we in eerste instantie tegen een beperking van kennis aan\n",
    "    - Wij wisten niet hoe we een XML-File moesten lezen en hoe we deze moesten interpreteren\n",
    "    - Als oplossing hebben we intensief geoefend met verschillende voorbeeld XML-files\n",
    "- <u>``trafficspeed.xml`` (in het bijzonder):</u>\n",
    "    - Nadat we intensief gezocht hebben naar verschillende datasets zijn we uiteindelijk beland bij de NDW. De NDW heeft verschillende XML-files waarin data over de Nederlandse snelwegen wordt bijgehouden. Het probleem is dat deze XML-file heel veel nesting bevat waardoor het moeilijk te lezen was. Toegepaste oplossingen:\n",
    "        - XML-formatter voor leesbaarheid op: https://www.freeformatter.com/batch-formatter.html\n",
    "        - XML-file omzetten in een string-formaat m.b.v. Python (``.replace``) zodat we individuele elementen konden verwijderen\n",
    "        - XML-files lezen voor Windows: Notepad++\n",
    "        - XML-files lezen voor Mac: Atom, Emacs\n",
    "    - Helaas hebben we tot nu toe nog geen metadata kunnen vinden voor ``trafficspeed.xml`` (@PETER: STAAT DEZE NIET BOVENAAN IN DE XML-FILE??? DAAR STAAT ONDER ANDERE WANNEER DE DATASET BESCHIKBAAR IS GEKOMEN, UIT WELK LAND HET KOMT EN VAN WIE HET KOMT)\n",
    "- <u>Datetime omzetten naar aparte kolommen voor date en time:</u>\n",
    "    - Geen noemenswaardige problemen bij tegengekomen. Het enige is dat de tijdkolom als objecttype staat en ik weet niet zeker of dit correct is. De datumkolom staat in het datetimetype, dus dit is sowieso correct."
   ]
  },
  {
   "cell_type": "markdown",
   "metadata": {},
   "source": [
    "<font face=\"cambria\">       \n",
    "<hr noshade size=\"2px\" width=\"100%\">\n",
    "<p style=\"text-align:right;\"><font size=\"3\">© Peter Kremers en Dennis van der Linden</font></p"
   ]
  }
 ],
 "metadata": {
  "kernelspec": {
   "display_name": "Python 3",
   "language": "python",
   "name": "python3"
  },
  "language_info": {
   "codemirror_mode": {
    "name": "ipython",
    "version": 3
   },
   "file_extension": ".py",
   "mimetype": "text/x-python",
   "name": "python",
   "nbconvert_exporter": "python",
   "pygments_lexer": "ipython3",
   "version": "3.7.3"
  }
 },
 "nbformat": 4,
 "nbformat_minor": 4
}
