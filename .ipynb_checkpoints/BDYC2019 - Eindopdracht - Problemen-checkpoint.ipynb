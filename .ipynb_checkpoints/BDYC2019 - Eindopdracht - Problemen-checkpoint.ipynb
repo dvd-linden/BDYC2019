{
 "cells": [
  {
   "cell_type": "markdown",
   "metadata": {},
   "source": [
    "<font size='5'><b>Big Data Engineer Eindopdracht - Peter Kremers en Dennis van der Linden<B></font>\n",
    "</br>\n",
    "</br>\n",
    "<font size='5'>Problemen</font>"
   ]
  },
  {
   "cell_type": "markdown",
   "metadata": {},
   "source": [
    "- Git:\n",
    "    - Repository delen met elkaar lukt niet\n",
    "        - Status: *Opgelost*\n",
    "    - Git push commands voor Mac:\n",
    "        - 1: git add \"filename.ipynb\"\n",
    "        - 2: git commit --> message invullen\n",
    "        - 3: druk op ESC and voer commando wq: uit\n",
    "        - 4: git push"
   ]
  },
  {
   "cell_type": "code",
   "execution_count": null,
   "metadata": {},
   "outputs": [],
   "source": []
  }
 ],
 "metadata": {
  "kernelspec": {
   "display_name": "Python 3",
   "language": "python",
   "name": "python3"
  },
  "language_info": {
   "codemirror_mode": {
    "name": "ipython",
    "version": 3
   },
   "file_extension": ".py",
   "mimetype": "text/x-python",
   "name": "python",
   "nbconvert_exporter": "python",
   "pygments_lexer": "ipython3",
   "version": "3.7.3"
  }
 },
 "nbformat": 4,
 "nbformat_minor": 4
}
