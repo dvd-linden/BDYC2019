{
 "cells": [
  {
   "cell_type": "markdown",
   "metadata": {},
   "source": [
    "<font size='5'><b>Big Data Engineer Eindopdracht - Peter Kremers en Dennis van der Linden<B></font>\n",
    "</br>\n",
    "</br>\n",
    "<font size='5'><u>Plan van aanpak</u></font>"
   ]
  },
  {
   "cell_type": "markdown",
   "metadata": {},
   "source": [
    "- Bepaling van het onderwerp (work-in progress):\n",
    "    - Er zijn 3 hoofdonderwerpen door ons opgesteld. Bij elk onderwerp hebben we een probleemstelling/onderzoeksvraag geformuleerd\n",
    "    - Het defintieve onderwerp is door ons nog niet gekozen; dit zal gebeuren na het zoeken naar datasets.\n",
    "- Het zoeken van datasets (to-do):\n",
    "    - Het zoeken datasets die geschikt zijn voor onze probleemstelling/onderzoeksvraag\n",
    "    - Het verkrijgen van de datasets\n",
    "- Toetsing van de datasets --> op inhoud, technische aspecten en geschiktheid voor bewerking (to-do):\n",
    "    - Zijn de datasets die we hebben gevonden dusdanig van aard dat ze informatie bevatten die benodigd is voor het oplossen van onze probleemstelling/onderzoeksvraag?\n",
    "    - Zijn de gevonden datasets geschikt voor extract, transform, load waardoor deze ook bruikbaar zijn voor ons onderzoek?\n",
    "        - Bestandstype waar we mee kunnen werken? (API/JSON, CSV, XML)\n",
    "    - Is er metadata beschikbaar over deze datasets (veracity)?\n",
    "    - Kunnen de gevonden datasets gecombineerd worden?\n",
    "    - Wat voor soort data hebben we nou eigenlijk?\n",
    "        - Realtime vs. batch?\n",
    "        - Gestructureerd, semi-gestructureerd of ongestructureerd?\n",
    "- Wat zijn de benodigde applicaties/middelen voor de uitvoering van het project? (to-do):\n",
    "    - Python/Jupyter Notebooks (pandas, numpy, matplotlib, etc.)\n",
    "    - SQL?\n",
    "    - PowerBI?\n",
    "    - Github\n",
    "    - Azure?\n",
    "    - Excel?\n",
    "    - Powerpoint.... NEE\n",
    "- Enkele visualisaties om een globaal beeld te krijgen (to-do):\n",
    "    - Python describe\n",
    "    - Enkele plots (bv. scatter)\n",
    "- Data cleaning (to-do):\n",
    "    - Onderzoeken op missing values (NaN)\n",
    "        - In het geval deze voor komen dan beslissen of het nodig is om deze te verwijderen of niet\n",
    "        - Sentinels opsporen en er actie op ondernemen\n",
    "        - Checken of masking nodig is\n",
    "    - Onderzoeken op verschillende soorten datatypes\n",
    "        - Welke datatypes zijn bruikbaar? (welke datatypes hebben we nodig)\n",
    "        - Datatypes converteren?\n",
    "    - Onderzoek doen naar betekenis van verschillende variabelen\n",
    "        - Bepalen welke variabelen betekenis hebben en we op willen nemen in onze analyse\n",
    "    - Dataframe creëren met daarin alleen de voor ons bruikbare variabelen\n",
    "- Data analyse/visualisatie (to-do):\n",
    "    - Onderzoek doen naar verbanden die relevant zijn en een verklarend vermogen hebben met betrekking tot probleemstelling/onderzoeksvraag\n",
    "        - Correlatie\n",
    "        - Regressie (linear, multiple linear, logistic)\n",
    "        - Eventuele classificatie of clustering methodes?\n",
    "        - Heat maps/spacial data analysis?\n",
    "    - Hebben we genoeg data verzameld?\n",
    "        - Stel dat er geen enkel resultaat uit de analyse komt, dan moeten we de vraag stellen of we de juiste (hoeveelheid) data hebben verzameld en of we het data cleaning proces wel correct hebben uitgevoerd.\n",
    "    - Iteratief proces\n",
    "        - Mocht het nodig zijn dat er meer data verzameld moet worden of dat de cleaning stage opnieuw moet dan moet er ook een nieuwe analyse uitgevoerd worden.\n",
    "    - Uiteindelijke visualisaties opstellen die opgenomen kunnen worden in de presentatie\n",
    "- Interpretatie van resultaten en conclusies trekken (to-do):\n",
    "    - Wordt de probleemstelling/onderzoeksvraag beantwoord?\n",
    "    - Zijn er mogelijke bezwaren die het resultaat of de conclusies kunnen weerleggen?\n",
    "    - Zijn er beperkingen aan het resultaat of de conclusie?\n",
    "    - Zijn er, aan de hand van het onderzoek, andere invalshoeken aan het licht gekomen die zouden kunnen wijzen op verder onderzoek of een herhaling van het onderzoek?\n",
    "    - Kunnen de resultaten gebruikt worden door een organisatie/bedrijf en/of de overheid? (utilization of analysis results)\n",
    "        - Kan er een model opgesteld worden\n",
    "- Het verloop van het project + de resultaten van het project uitwerken in een presentatie (to-do):\n",
    "    - Notebook opstellen met voor de presentatie\n",
    "        - De uiteindelijke resultaten en bijbehorende visualisaties\n",
    "        - Beschrijving van het proces\n",
    "        - Problemen waar we tegenaan gelopen zijn (deze ophalen uit het notebook met daarin de problemen)    \n",
    "    - Bepaling wie wat presenteert\n",
    "    - Presentatie uitschrijven en voorbereiden/oefenen       \n",
    "    "
   ]
  },
  {
   "cell_type": "code",
   "execution_count": null,
   "metadata": {},
   "outputs": [],
   "source": []
  }
 ],
 "metadata": {
  "kernelspec": {
   "display_name": "Python 3",
   "language": "python",
   "name": "python3"
  },
  "language_info": {
   "codemirror_mode": {
    "name": "ipython",
    "version": 3
   },
   "file_extension": ".py",
   "mimetype": "text/x-python",
   "name": "python",
   "nbconvert_exporter": "python",
   "pygments_lexer": "ipython3",
   "version": "3.7.3"
  }
 },
 "nbformat": 4,
 "nbformat_minor": 4
}
